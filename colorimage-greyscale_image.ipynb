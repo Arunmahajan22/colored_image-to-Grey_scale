{
 "cells": [
  {
   "cell_type": "code",
   "execution_count": 6,
   "id": "b72bccdc-16ba-4771-b6fc-21925170b4cb",
   "metadata": {},
   "outputs": [
    {
     "name": "stdout",
     "output_type": "stream",
     "text": [
      "Converted E:\\input_images\\th.jpeg to grayscale successfully.\n"
     ]
    }
   ],
   "source": [
    "import cv2\n",
    "import os\n",
    "\n",
    "# Function to convert an image to grayscale\n",
    "def convert_to_grayscale(input_path, output_path):\n",
    "    try:\n",
    "        # Read the image\n",
    "        image = cv2.imread(input_path)\n",
    "        \n",
    "        # Convert to grayscale\n",
    "        gray_image = cv2.cvtColor(image, cv2.COLOR_BGR2GRAY)\n",
    "        \n",
    "        # Write the grayscale image\n",
    "        cv2.imwrite(output_path, gray_image)\n",
    "        \n",
    "        print(f\"Converted {input_path} to grayscale successfully.\")\n",
    "        \n",
    "    except Exception as e:\n",
    "        print(f\"Error converting {input_path} to grayscale: {str(e)}\")\n",
    "\n",
    "# Directory containing the images\n",
    "input_directory = r\"E:\\input_images\"\n",
    "\n",
    "# Directory to save the grayscale images\n",
    "output_directory = \"grayscale_images\"\n",
    "\n",
    "# Create output directory if it doesn't exist\n",
    "os.makedirs(output_directory, exist_ok=True)\n",
    "\n",
    "# List all files in the input directory\n",
    "files = os.listdir(input_directory)\n",
    "\n",
    "# Process each image file\n",
    "for file in files:\n",
    "    # Check if the file is an image (you may want to add more robust checks)\n",
    "    if file.endswith(\".jpg\") or file.endswith(\".jpeg\") or file.endswith(\".png\"):\n",
    "        # Construct input and output paths\n",
    "        input_path = os.path.join(input_directory, file)\n",
    "        output_path = os.path.join(output_directory, file)\n",
    "        \n",
    "        # Convert to grayscale and save\n",
    "        convert_to_grayscale(input_path, output_path)\n"
   ]
  },
  {
   "cell_type": "code",
   "execution_count": null,
   "id": "8504d42a-f092-43f8-b748-14e8632fc01d",
   "metadata": {},
   "outputs": [],
   "source": []
  }
 ],
 "metadata": {
  "kernelspec": {
   "display_name": "Python 3 (ipykernel)",
   "language": "python",
   "name": "python3"
  },
  "language_info": {
   "codemirror_mode": {
    "name": "ipython",
    "version": 3
   },
   "file_extension": ".py",
   "mimetype": "text/x-python",
   "name": "python",
   "nbconvert_exporter": "python",
   "pygments_lexer": "ipython3",
   "version": "3.12.1"
  }
 },
 "nbformat": 4,
 "nbformat_minor": 5
}
